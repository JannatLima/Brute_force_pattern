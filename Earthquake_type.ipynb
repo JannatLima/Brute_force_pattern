{
  "nbformat": 4,
  "nbformat_minor": 0,
  "metadata": {
    "colab": {
      "name": "Earthquake-type.ipynb",
      "provenance": [],
      "collapsed_sections": [],
      "authorship_tag": "ABX9TyMfB0qCH4TBNR36oUDSNQBI",
      "include_colab_link": true
    },
    "kernelspec": {
      "name": "python3",
      "display_name": "Python 3"
    },
    "language_info": {
      "name": "python"
    }
  },
  "cells": [
    {
      "cell_type": "markdown",
      "metadata": {
        "id": "view-in-github",
        "colab_type": "text"
      },
      "source": [
        "<a href=\"https://colab.research.google.com/github/JannatLima/Brute_force_pattern/blob/main/Earthquake_type.ipynb\" target=\"_parent\"><img src=\"https://colab.research.google.com/assets/colab-badge.svg\" alt=\"Open In Colab\"/></a>"
      ]
    },
    {
      "cell_type": "markdown",
      "metadata": {
        "id": "mYaAL6i2KnXz"
      },
      "source": [
        "Import Required Libraries"
      ]
    },
    {
      "cell_type": "code",
      "metadata": {
        "id": "_IWdtA5hJ2ev"
      },
      "source": [
        "import numpy as np\n",
        "import pandas as pd\n",
        "import matplotlib.pyplot as plt\n",
        "import seaborn as sns\n",
        "\n",
        "from sklearn.preprocessing import StandardScaler\n",
        "from sklearn.model_selection import train_test_split\n",
        "from sklearn.metrics import confusion_matrix\n",
        "\n",
        "import tensorflow as tf\n",
        "from tensorflow.keras.models import Sequential\n",
        "from tensorflow.keras import Input\n",
        "from tensorflow.keras.layers import Dense\n",
        "from tensorflow.keras.optimizers import Adam\n",
        "from tensorflow.keras.callbacks import EarlyStopping, ModelCheckpoint, ReduceLROnPlateau"
      ],
      "execution_count": null,
      "outputs": []
    },
    {
      "cell_type": "markdown",
      "metadata": {
        "id": "H04kkm93KmJt"
      },
      "source": [
        "Loading Dataset\n"
      ]
    },
    {
      "cell_type": "code",
      "metadata": {
        "id": "dObadAUCKy8n"
      },
      "source": [
        "df = pd.read_csv('/content/database.csv')"
      ],
      "execution_count": null,
      "outputs": []
    },
    {
      "cell_type": "code",
      "metadata": {
        "id": "67Cgkyh7K8qG",
        "colab": {
          "base_uri": "https://localhost:8080/",
          "height": 260
        },
        "outputId": "bcd1c9be-49d1-413e-9ab7-e36c8f48f47a"
      },
      "source": [
        "# lets check the first five rows of data\n",
        "df.head()"
      ],
      "execution_count": null,
      "outputs": [
        {
          "output_type": "execute_result",
          "data": {
            "text/html": [
              "<div>\n",
              "<style scoped>\n",
              "    .dataframe tbody tr th:only-of-type {\n",
              "        vertical-align: middle;\n",
              "    }\n",
              "\n",
              "    .dataframe tbody tr th {\n",
              "        vertical-align: top;\n",
              "    }\n",
              "\n",
              "    .dataframe thead th {\n",
              "        text-align: right;\n",
              "    }\n",
              "</style>\n",
              "<table border=\"1\" class=\"dataframe\">\n",
              "  <thead>\n",
              "    <tr style=\"text-align: right;\">\n",
              "      <th></th>\n",
              "      <th>Date</th>\n",
              "      <th>Time</th>\n",
              "      <th>Latitude</th>\n",
              "      <th>Longitude</th>\n",
              "      <th>Type</th>\n",
              "      <th>Depth</th>\n",
              "      <th>Depth Error</th>\n",
              "      <th>Depth Seismic Stations</th>\n",
              "      <th>Magnitude</th>\n",
              "      <th>Magnitude Type</th>\n",
              "      <th>Magnitude Error</th>\n",
              "      <th>Magnitude Seismic Stations</th>\n",
              "      <th>Azimuthal Gap</th>\n",
              "      <th>Horizontal Distance</th>\n",
              "      <th>Horizontal Error</th>\n",
              "      <th>Root Mean Square</th>\n",
              "      <th>ID</th>\n",
              "      <th>Source</th>\n",
              "      <th>Location Source</th>\n",
              "      <th>Magnitude Source</th>\n",
              "      <th>Status</th>\n",
              "    </tr>\n",
              "  </thead>\n",
              "  <tbody>\n",
              "    <tr>\n",
              "      <th>0</th>\n",
              "      <td>01/02/1965</td>\n",
              "      <td>13:44:18</td>\n",
              "      <td>19.246</td>\n",
              "      <td>145.616</td>\n",
              "      <td>Earthquake</td>\n",
              "      <td>131.6</td>\n",
              "      <td>NaN</td>\n",
              "      <td>NaN</td>\n",
              "      <td>6.0</td>\n",
              "      <td>MW</td>\n",
              "      <td>NaN</td>\n",
              "      <td>NaN</td>\n",
              "      <td>NaN</td>\n",
              "      <td>NaN</td>\n",
              "      <td>NaN</td>\n",
              "      <td>NaN</td>\n",
              "      <td>ISCGEM860706</td>\n",
              "      <td>ISCGEM</td>\n",
              "      <td>ISCGEM</td>\n",
              "      <td>ISCGEM</td>\n",
              "      <td>Automatic</td>\n",
              "    </tr>\n",
              "    <tr>\n",
              "      <th>1</th>\n",
              "      <td>01/04/1965</td>\n",
              "      <td>11:29:49</td>\n",
              "      <td>1.863</td>\n",
              "      <td>127.352</td>\n",
              "      <td>Earthquake</td>\n",
              "      <td>80.0</td>\n",
              "      <td>NaN</td>\n",
              "      <td>NaN</td>\n",
              "      <td>5.8</td>\n",
              "      <td>MW</td>\n",
              "      <td>NaN</td>\n",
              "      <td>NaN</td>\n",
              "      <td>NaN</td>\n",
              "      <td>NaN</td>\n",
              "      <td>NaN</td>\n",
              "      <td>NaN</td>\n",
              "      <td>ISCGEM860737</td>\n",
              "      <td>ISCGEM</td>\n",
              "      <td>ISCGEM</td>\n",
              "      <td>ISCGEM</td>\n",
              "      <td>Automatic</td>\n",
              "    </tr>\n",
              "    <tr>\n",
              "      <th>2</th>\n",
              "      <td>01/05/1965</td>\n",
              "      <td>18:05:58</td>\n",
              "      <td>-20.579</td>\n",
              "      <td>-173.972</td>\n",
              "      <td>Earthquake</td>\n",
              "      <td>20.0</td>\n",
              "      <td>NaN</td>\n",
              "      <td>NaN</td>\n",
              "      <td>6.2</td>\n",
              "      <td>MW</td>\n",
              "      <td>NaN</td>\n",
              "      <td>NaN</td>\n",
              "      <td>NaN</td>\n",
              "      <td>NaN</td>\n",
              "      <td>NaN</td>\n",
              "      <td>NaN</td>\n",
              "      <td>ISCGEM860762</td>\n",
              "      <td>ISCGEM</td>\n",
              "      <td>ISCGEM</td>\n",
              "      <td>ISCGEM</td>\n",
              "      <td>Automatic</td>\n",
              "    </tr>\n",
              "    <tr>\n",
              "      <th>3</th>\n",
              "      <td>01/08/1965</td>\n",
              "      <td>18:49:43</td>\n",
              "      <td>-59.076</td>\n",
              "      <td>-23.557</td>\n",
              "      <td>Earthquake</td>\n",
              "      <td>15.0</td>\n",
              "      <td>NaN</td>\n",
              "      <td>NaN</td>\n",
              "      <td>5.8</td>\n",
              "      <td>MW</td>\n",
              "      <td>NaN</td>\n",
              "      <td>NaN</td>\n",
              "      <td>NaN</td>\n",
              "      <td>NaN</td>\n",
              "      <td>NaN</td>\n",
              "      <td>NaN</td>\n",
              "      <td>ISCGEM860856</td>\n",
              "      <td>ISCGEM</td>\n",
              "      <td>ISCGEM</td>\n",
              "      <td>ISCGEM</td>\n",
              "      <td>Automatic</td>\n",
              "    </tr>\n",
              "    <tr>\n",
              "      <th>4</th>\n",
              "      <td>01/09/1965</td>\n",
              "      <td>13:32:50</td>\n",
              "      <td>11.938</td>\n",
              "      <td>126.427</td>\n",
              "      <td>Earthquake</td>\n",
              "      <td>15.0</td>\n",
              "      <td>NaN</td>\n",
              "      <td>NaN</td>\n",
              "      <td>5.8</td>\n",
              "      <td>MW</td>\n",
              "      <td>NaN</td>\n",
              "      <td>NaN</td>\n",
              "      <td>NaN</td>\n",
              "      <td>NaN</td>\n",
              "      <td>NaN</td>\n",
              "      <td>NaN</td>\n",
              "      <td>ISCGEM860890</td>\n",
              "      <td>ISCGEM</td>\n",
              "      <td>ISCGEM</td>\n",
              "      <td>ISCGEM</td>\n",
              "      <td>Automatic</td>\n",
              "    </tr>\n",
              "  </tbody>\n",
              "</table>\n",
              "</div>"
            ],
            "text/plain": [
              "         Date      Time  Latitude  ...  Location Source Magnitude Source     Status\n",
              "0  01/02/1965  13:44:18    19.246  ...           ISCGEM           ISCGEM  Automatic\n",
              "1  01/04/1965  11:29:49     1.863  ...           ISCGEM           ISCGEM  Automatic\n",
              "2  01/05/1965  18:05:58   -20.579  ...           ISCGEM           ISCGEM  Automatic\n",
              "3  01/08/1965  18:49:43   -59.076  ...           ISCGEM           ISCGEM  Automatic\n",
              "4  01/09/1965  13:32:50    11.938  ...           ISCGEM           ISCGEM  Automatic\n",
              "\n",
              "[5 rows x 21 columns]"
            ]
          },
          "metadata": {},
          "execution_count": 3
        }
      ]
    },
    {
      "cell_type": "code",
      "metadata": {
        "id": "-p4ZXNQEK5Vk",
        "colab": {
          "base_uri": "https://localhost:8080/"
        },
        "outputId": "0600c071-1b0f-481a-ab5a-17308008c9c7"
      },
      "source": [
        "# shape of data\n",
        "df.shape"
      ],
      "execution_count": null,
      "outputs": [
        {
          "output_type": "execute_result",
          "data": {
            "text/plain": [
              "(23412, 21)"
            ]
          },
          "metadata": {},
          "execution_count": 3
        }
      ]
    },
    {
      "cell_type": "code",
      "metadata": {
        "id": "lqQ5FThVK_fM",
        "colab": {
          "base_uri": "https://localhost:8080/"
        },
        "outputId": "a2ae0844-bc4f-4e2e-b2fd-57eb63537367"
      },
      "source": [
        "df.info()"
      ],
      "execution_count": null,
      "outputs": [
        {
          "output_type": "stream",
          "name": "stdout",
          "text": [
            "<class 'pandas.core.frame.DataFrame'>\n",
            "RangeIndex: 23412 entries, 0 to 23411\n",
            "Data columns (total 21 columns):\n",
            " #   Column                      Non-Null Count  Dtype  \n",
            "---  ------                      --------------  -----  \n",
            " 0   Date                        23412 non-null  object \n",
            " 1   Time                        23412 non-null  object \n",
            " 2   Latitude                    23412 non-null  float64\n",
            " 3   Longitude                   23412 non-null  float64\n",
            " 4   Type                        23412 non-null  object \n",
            " 5   Depth                       23412 non-null  float64\n",
            " 6   Depth Error                 4461 non-null   float64\n",
            " 7   Depth Seismic Stations      7097 non-null   float64\n",
            " 8   Magnitude                   23412 non-null  float64\n",
            " 9   Magnitude Type              23409 non-null  object \n",
            " 10  Magnitude Error             327 non-null    float64\n",
            " 11  Magnitude Seismic Stations  2564 non-null   float64\n",
            " 12  Azimuthal Gap               7299 non-null   float64\n",
            " 13  Horizontal Distance         1604 non-null   float64\n",
            " 14  Horizontal Error            1156 non-null   float64\n",
            " 15  Root Mean Square            17352 non-null  float64\n",
            " 16  ID                          23412 non-null  object \n",
            " 17  Source                      23412 non-null  object \n",
            " 18  Location Source             23412 non-null  object \n",
            " 19  Magnitude Source            23412 non-null  object \n",
            " 20  Status                      23412 non-null  object \n",
            "dtypes: float64(12), object(9)\n",
            "memory usage: 3.8+ MB\n"
          ]
        }
      ]
    },
    {
      "cell_type": "code",
      "metadata": {
        "id": "xW4WuGFBLMHd",
        "colab": {
          "base_uri": "https://localhost:8080/"
        },
        "outputId": "7563bbc7-5947-422c-d253-0d6e13512806"
      },
      "source": [
        "# Checking for Missing values\n",
        "df.isnull().sum()"
      ],
      "execution_count": null,
      "outputs": [
        {
          "output_type": "execute_result",
          "data": {
            "text/plain": [
              "Date                              0\n",
              "Time                              0\n",
              "Latitude                          0\n",
              "Longitude                         0\n",
              "Type                              0\n",
              "Depth                             0\n",
              "Depth Error                   18951\n",
              "Depth Seismic Stations        16315\n",
              "Magnitude                         0\n",
              "Magnitude Type                    3\n",
              "Magnitude Error               23085\n",
              "Magnitude Seismic Stations    20848\n",
              "Azimuthal Gap                 16113\n",
              "Horizontal Distance           21808\n",
              "Horizontal Error              22256\n",
              "Root Mean Square               6060\n",
              "ID                                0\n",
              "Source                            0\n",
              "Location Source                   0\n",
              "Magnitude Source                  0\n",
              "Status                            0\n",
              "dtype: int64"
            ]
          },
          "metadata": {},
          "execution_count": 5
        }
      ]
    },
    {
      "cell_type": "markdown",
      "metadata": {
        "id": "mNl-KLbzLOy0"
      },
      "source": [
        "Data Preprocessing"
      ]
    },
    {
      "cell_type": "code",
      "metadata": {
        "id": "OtN81LuNLSBU"
      },
      "source": [
        "def preprocess_input(df):\n",
        "    df = df.copy()\n",
        "    # dropping ID as its an unrelevant feature.\n",
        "    df.drop('ID', axis=1,inplace=True)\n",
        "    # checking for features in which greater than 66%(2/3) of data is missing\n",
        "    null_columns = df.loc[:, df.isna().sum() > 0.66 * df.shape[0]].columns\n",
        "    # dropping those columns \n",
        "    df.drop(null_columns, axis=1,inplace=True)\n",
        "    # filling missing values by substituting mean value in rms columns \n",
        "    df['Root Mean Square'] = df['Root Mean Square'].fillna(df['Root Mean Square'].mean())\n",
        "    # filling missing values by substituting mode in Magnitude type columns \n",
        "    df['Magnitude Type'] = df['Magnitude Type'].fillna(df['Magnitude Type'].mode()[0])\n",
        "    df.reset_index(drop=True,inplace=True)\n",
        "    # converting Date into pandas datetime \n",
        "    df['Date'] = pd.to_datetime(df['Date'],utc=True)\n",
        "    # converting Time into pandas datetime \n",
        "    df['Time'] = pd.to_datetime(df['Time'],utc=True)\n",
        "    # Extracting Year and Month From Date column and converting it into integer\n",
        "    df['Year'] = df['Date'].apply(lambda x: str(x)[0:4]).astype(np.int)\n",
        "    df['Month'] = df['Date'].apply(lambda x: str(x)[5:7]).astype(np.int)\n",
        "    # Extracting Hour From Time column and converting it into integer\n",
        "    df['Hour'] = df['Time'].apply(lambda x: str(x)[11:13]).astype(np.int)\n",
        "    \n",
        "    # dropping Date and Time as we dont need it anymore.\n",
        "    df.drop(['Date','Time'], axis=1,inplace=True)\n",
        "    \n",
        "    # encoding Status to make it numerical.\n",
        "    df['Status'] = df['Status'].map({'Automatic':0,\n",
        "                                    'Reviewed':1}).astype('int')\n",
        "    \n",
        "    return df"
      ],
      "execution_count": null,
      "outputs": []
    },
    {
      "cell_type": "code",
      "metadata": {
        "id": "PfFCpVn0LUM9"
      },
      "source": [
        "df = preprocess_input(df)"
      ],
      "execution_count": null,
      "outputs": []
    },
    {
      "cell_type": "code",
      "metadata": {
        "id": "4DSO-AnvLWU0",
        "colab": {
          "base_uri": "https://localhost:8080/"
        },
        "outputId": "3d8af458-0f8d-4a43-c2aa-051097b82420"
      },
      "source": [
        "# checking missing values again.\n",
        "df.isnull().sum()"
      ],
      "execution_count": null,
      "outputs": [
        {
          "output_type": "execute_result",
          "data": {
            "text/plain": [
              "Latitude            0\n",
              "Longitude           0\n",
              "Type                0\n",
              "Depth               0\n",
              "Magnitude           0\n",
              "Magnitude Type      0\n",
              "Root Mean Square    0\n",
              "Source              0\n",
              "Location Source     0\n",
              "Magnitude Source    0\n",
              "Status              0\n",
              "Year                0\n",
              "Month               0\n",
              "Hour                0\n",
              "dtype: int64"
            ]
          },
          "metadata": {},
          "execution_count": 8
        }
      ]
    },
    {
      "cell_type": "code",
      "metadata": {
        "id": "TAAuuquqLYi1",
        "colab": {
          "base_uri": "https://localhost:8080/"
        },
        "outputId": "0dbcc41c-4808-4baa-b6f1-3a4d48732ebc"
      },
      "source": [
        "# creating list of categorical columns for one hot encoding\n",
        "categorical_columns = [col for col in df.columns if df.dtypes[col] == 'object']\n",
        "\n",
        "# creating list of numerical columns to standardized data \n",
        "numerical_columns = [col for col in df.columns if ((df.dtypes[col] != 'object') & (col != 'Status'))]\n",
        "\n",
        "print('Numerical Features are : ',numerical_columns)\n",
        "print('Categorical Features are : ',categorical_columns)"
      ],
      "execution_count": null,
      "outputs": [
        {
          "output_type": "stream",
          "name": "stdout",
          "text": [
            "Numerical Features are :  ['Latitude', 'Longitude', 'Depth', 'Magnitude', 'Root Mean Square', 'Year', 'Month', 'Hour']\n",
            "Categorical Features are :  ['Type', 'Magnitude Type', 'Source', 'Location Source', 'Magnitude Source']\n"
          ]
        }
      ]
    },
    {
      "cell_type": "markdown",
      "metadata": {
        "id": "sYUlnQkFLbN0"
      },
      "source": [
        "OneHotEncoding for Categorical Features"
      ]
    },
    {
      "cell_type": "code",
      "metadata": {
        "id": "X_Za2sD9LdnN"
      },
      "source": [
        "# one hot encoding for categorical features \n",
        "def onehot_encoder(df, cols):\n",
        "    df = df.copy()\n",
        "    for col in cols:\n",
        "        dummies = pd.get_dummies(df[col], drop_first=True)\n",
        "        df = pd.concat([df, dummies], axis=1)\n",
        "        df.drop(col, axis=1,inplace=True)\n",
        "    return df"
      ],
      "execution_count": null,
      "outputs": []
    },
    {
      "cell_type": "code",
      "metadata": {
        "id": "s7qv8Xg7Lfh9"
      },
      "source": [
        "df = onehot_encoder(df,categorical_columns)"
      ],
      "execution_count": null,
      "outputs": []
    },
    {
      "cell_type": "markdown",
      "metadata": {
        "id": "v-V_1bX_Lhys"
      },
      "source": [
        "Scaling Numerical Features"
      ]
    },
    {
      "cell_type": "code",
      "metadata": {
        "id": "cBSnot9-LkKE"
      },
      "source": [
        "sc = StandardScaler()\n",
        "df[numerical_columns] = sc.fit_transform(df[numerical_columns])"
      ],
      "execution_count": null,
      "outputs": []
    },
    {
      "cell_type": "code",
      "metadata": {
        "id": "vTVjWTTLLmGs",
        "colab": {
          "base_uri": "https://localhost:8080/",
          "height": 358
        },
        "outputId": "ee2dc5b6-fe1f-4bf0-e371-39b0a0991fda"
      },
      "source": [
        "df.head()"
      ],
      "execution_count": null,
      "outputs": [
        {
          "output_type": "execute_result",
          "data": {
            "text/html": [
              "<div>\n",
              "<style scoped>\n",
              "    .dataframe tbody tr th:only-of-type {\n",
              "        vertical-align: middle;\n",
              "    }\n",
              "\n",
              "    .dataframe tbody tr th {\n",
              "        vertical-align: top;\n",
              "    }\n",
              "\n",
              "    .dataframe thead th {\n",
              "        text-align: right;\n",
              "    }\n",
              "</style>\n",
              "<table border=\"1\" class=\"dataframe\">\n",
              "  <thead>\n",
              "    <tr style=\"text-align: right;\">\n",
              "      <th></th>\n",
              "      <th>Latitude</th>\n",
              "      <th>Longitude</th>\n",
              "      <th>Depth</th>\n",
              "      <th>Magnitude</th>\n",
              "      <th>Root Mean Square</th>\n",
              "      <th>Status</th>\n",
              "      <th>Year</th>\n",
              "      <th>Month</th>\n",
              "      <th>Hour</th>\n",
              "      <th>Explosion</th>\n",
              "      <th>Nuclear Explosion</th>\n",
              "      <th>Rock Burst</th>\n",
              "      <th>MD</th>\n",
              "      <th>MH</th>\n",
              "      <th>ML</th>\n",
              "      <th>MS</th>\n",
              "      <th>MW</th>\n",
              "      <th>MWB</th>\n",
              "      <th>MWC</th>\n",
              "      <th>MWR</th>\n",
              "      <th>MWW</th>\n",
              "      <th>ATLAS</th>\n",
              "      <th>CI</th>\n",
              "      <th>GCMT</th>\n",
              "      <th>ISCGEM</th>\n",
              "      <th>ISCGEMSUP</th>\n",
              "      <th>NC</th>\n",
              "      <th>NN</th>\n",
              "      <th>OFFICIAL</th>\n",
              "      <th>PR</th>\n",
              "      <th>SE</th>\n",
              "      <th>US</th>\n",
              "      <th>UW</th>\n",
              "      <th>AEIC</th>\n",
              "      <th>AG</th>\n",
              "      <th>AGS</th>\n",
              "      <th>AK</th>\n",
              "      <th>ATH</th>\n",
              "      <th>ATLAS</th>\n",
              "      <th>B</th>\n",
              "      <th>...</th>\n",
              "      <th>RSPR</th>\n",
              "      <th>SE</th>\n",
              "      <th>SJA</th>\n",
              "      <th>SLC</th>\n",
              "      <th>SPE</th>\n",
              "      <th>TAP</th>\n",
              "      <th>TEH</th>\n",
              "      <th>THE</th>\n",
              "      <th>THR</th>\n",
              "      <th>TUL</th>\n",
              "      <th>U</th>\n",
              "      <th>UCR</th>\n",
              "      <th>UNM</th>\n",
              "      <th>US</th>\n",
              "      <th>US_WEL</th>\n",
              "      <th>UW</th>\n",
              "      <th>WEL</th>\n",
              "      <th>1009</th>\n",
              "      <th>1020</th>\n",
              "      <th>1023</th>\n",
              "      <th>AK</th>\n",
              "      <th>ATLAS</th>\n",
              "      <th>BRK</th>\n",
              "      <th>CI</th>\n",
              "      <th>GCMT</th>\n",
              "      <th>GUC</th>\n",
              "      <th>HRV</th>\n",
              "      <th>ISCGEM</th>\n",
              "      <th>NC</th>\n",
              "      <th>NIED</th>\n",
              "      <th>NN</th>\n",
              "      <th>OFFICIAL</th>\n",
              "      <th>PAR</th>\n",
              "      <th>PGC</th>\n",
              "      <th>PR</th>\n",
              "      <th>SE</th>\n",
              "      <th>US</th>\n",
              "      <th>US_GCMT</th>\n",
              "      <th>US_PGC</th>\n",
              "      <th>UW</th>\n",
              "    </tr>\n",
              "  </thead>\n",
              "  <tbody>\n",
              "    <tr>\n",
              "      <th>0</th>\n",
              "      <td>0.583377</td>\n",
              "      <td>0.844368</td>\n",
              "      <td>0.495984</td>\n",
              "      <td>0.277668</td>\n",
              "      <td>-2.188775e-14</td>\n",
              "      <td>0</td>\n",
              "      <td>-1.915487</td>\n",
              "      <td>-1.603109</td>\n",
              "      <td>0.225244</td>\n",
              "      <td>0</td>\n",
              "      <td>0</td>\n",
              "      <td>0</td>\n",
              "      <td>0</td>\n",
              "      <td>0</td>\n",
              "      <td>0</td>\n",
              "      <td>0</td>\n",
              "      <td>1</td>\n",
              "      <td>0</td>\n",
              "      <td>0</td>\n",
              "      <td>0</td>\n",
              "      <td>0</td>\n",
              "      <td>0</td>\n",
              "      <td>0</td>\n",
              "      <td>0</td>\n",
              "      <td>1</td>\n",
              "      <td>0</td>\n",
              "      <td>0</td>\n",
              "      <td>0</td>\n",
              "      <td>0</td>\n",
              "      <td>0</td>\n",
              "      <td>0</td>\n",
              "      <td>0</td>\n",
              "      <td>0</td>\n",
              "      <td>0</td>\n",
              "      <td>0</td>\n",
              "      <td>0</td>\n",
              "      <td>0</td>\n",
              "      <td>0</td>\n",
              "      <td>0</td>\n",
              "      <td>0</td>\n",
              "      <td>...</td>\n",
              "      <td>0</td>\n",
              "      <td>0</td>\n",
              "      <td>0</td>\n",
              "      <td>0</td>\n",
              "      <td>0</td>\n",
              "      <td>0</td>\n",
              "      <td>0</td>\n",
              "      <td>0</td>\n",
              "      <td>0</td>\n",
              "      <td>0</td>\n",
              "      <td>0</td>\n",
              "      <td>0</td>\n",
              "      <td>0</td>\n",
              "      <td>0</td>\n",
              "      <td>0</td>\n",
              "      <td>0</td>\n",
              "      <td>0</td>\n",
              "      <td>0</td>\n",
              "      <td>0</td>\n",
              "      <td>0</td>\n",
              "      <td>0</td>\n",
              "      <td>0</td>\n",
              "      <td>0</td>\n",
              "      <td>0</td>\n",
              "      <td>0</td>\n",
              "      <td>0</td>\n",
              "      <td>0</td>\n",
              "      <td>1</td>\n",
              "      <td>0</td>\n",
              "      <td>0</td>\n",
              "      <td>0</td>\n",
              "      <td>0</td>\n",
              "      <td>0</td>\n",
              "      <td>0</td>\n",
              "      <td>0</td>\n",
              "      <td>0</td>\n",
              "      <td>0</td>\n",
              "      <td>0</td>\n",
              "      <td>0</td>\n",
              "      <td>0</td>\n",
              "    </tr>\n",
              "    <tr>\n",
              "      <th>1</th>\n",
              "      <td>0.006109</td>\n",
              "      <td>0.698849</td>\n",
              "      <td>0.075272</td>\n",
              "      <td>-0.195082</td>\n",
              "      <td>-2.188775e-14</td>\n",
              "      <td>0</td>\n",
              "      <td>-1.915487</td>\n",
              "      <td>-1.603109</td>\n",
              "      <td>-0.064982</td>\n",
              "      <td>0</td>\n",
              "      <td>0</td>\n",
              "      <td>0</td>\n",
              "      <td>0</td>\n",
              "      <td>0</td>\n",
              "      <td>0</td>\n",
              "      <td>0</td>\n",
              "      <td>1</td>\n",
              "      <td>0</td>\n",
              "      <td>0</td>\n",
              "      <td>0</td>\n",
              "      <td>0</td>\n",
              "      <td>0</td>\n",
              "      <td>0</td>\n",
              "      <td>0</td>\n",
              "      <td>1</td>\n",
              "      <td>0</td>\n",
              "      <td>0</td>\n",
              "      <td>0</td>\n",
              "      <td>0</td>\n",
              "      <td>0</td>\n",
              "      <td>0</td>\n",
              "      <td>0</td>\n",
              "      <td>0</td>\n",
              "      <td>0</td>\n",
              "      <td>0</td>\n",
              "      <td>0</td>\n",
              "      <td>0</td>\n",
              "      <td>0</td>\n",
              "      <td>0</td>\n",
              "      <td>0</td>\n",
              "      <td>...</td>\n",
              "      <td>0</td>\n",
              "      <td>0</td>\n",
              "      <td>0</td>\n",
              "      <td>0</td>\n",
              "      <td>0</td>\n",
              "      <td>0</td>\n",
              "      <td>0</td>\n",
              "      <td>0</td>\n",
              "      <td>0</td>\n",
              "      <td>0</td>\n",
              "      <td>0</td>\n",
              "      <td>0</td>\n",
              "      <td>0</td>\n",
              "      <td>0</td>\n",
              "      <td>0</td>\n",
              "      <td>0</td>\n",
              "      <td>0</td>\n",
              "      <td>0</td>\n",
              "      <td>0</td>\n",
              "      <td>0</td>\n",
              "      <td>0</td>\n",
              "      <td>0</td>\n",
              "      <td>0</td>\n",
              "      <td>0</td>\n",
              "      <td>0</td>\n",
              "      <td>0</td>\n",
              "      <td>0</td>\n",
              "      <td>1</td>\n",
              "      <td>0</td>\n",
              "      <td>0</td>\n",
              "      <td>0</td>\n",
              "      <td>0</td>\n",
              "      <td>0</td>\n",
              "      <td>0</td>\n",
              "      <td>0</td>\n",
              "      <td>0</td>\n",
              "      <td>0</td>\n",
              "      <td>0</td>\n",
              "      <td>0</td>\n",
              "      <td>0</td>\n",
              "    </tr>\n",
              "    <tr>\n",
              "      <th>2</th>\n",
              "      <td>-0.739162</td>\n",
              "      <td>-1.701962</td>\n",
              "      <td>-0.413928</td>\n",
              "      <td>0.750418</td>\n",
              "      <td>-2.188775e-14</td>\n",
              "      <td>0</td>\n",
              "      <td>-1.915487</td>\n",
              "      <td>-1.603109</td>\n",
              "      <td>0.950811</td>\n",
              "      <td>0</td>\n",
              "      <td>0</td>\n",
              "      <td>0</td>\n",
              "      <td>0</td>\n",
              "      <td>0</td>\n",
              "      <td>0</td>\n",
              "      <td>0</td>\n",
              "      <td>1</td>\n",
              "      <td>0</td>\n",
              "      <td>0</td>\n",
              "      <td>0</td>\n",
              "      <td>0</td>\n",
              "      <td>0</td>\n",
              "      <td>0</td>\n",
              "      <td>0</td>\n",
              "      <td>1</td>\n",
              "      <td>0</td>\n",
              "      <td>0</td>\n",
              "      <td>0</td>\n",
              "      <td>0</td>\n",
              "      <td>0</td>\n",
              "      <td>0</td>\n",
              "      <td>0</td>\n",
              "      <td>0</td>\n",
              "      <td>0</td>\n",
              "      <td>0</td>\n",
              "      <td>0</td>\n",
              "      <td>0</td>\n",
              "      <td>0</td>\n",
              "      <td>0</td>\n",
              "      <td>0</td>\n",
              "      <td>...</td>\n",
              "      <td>0</td>\n",
              "      <td>0</td>\n",
              "      <td>0</td>\n",
              "      <td>0</td>\n",
              "      <td>0</td>\n",
              "      <td>0</td>\n",
              "      <td>0</td>\n",
              "      <td>0</td>\n",
              "      <td>0</td>\n",
              "      <td>0</td>\n",
              "      <td>0</td>\n",
              "      <td>0</td>\n",
              "      <td>0</td>\n",
              "      <td>0</td>\n",
              "      <td>0</td>\n",
              "      <td>0</td>\n",
              "      <td>0</td>\n",
              "      <td>0</td>\n",
              "      <td>0</td>\n",
              "      <td>0</td>\n",
              "      <td>0</td>\n",
              "      <td>0</td>\n",
              "      <td>0</td>\n",
              "      <td>0</td>\n",
              "      <td>0</td>\n",
              "      <td>0</td>\n",
              "      <td>0</td>\n",
              "      <td>1</td>\n",
              "      <td>0</td>\n",
              "      <td>0</td>\n",
              "      <td>0</td>\n",
              "      <td>0</td>\n",
              "      <td>0</td>\n",
              "      <td>0</td>\n",
              "      <td>0</td>\n",
              "      <td>0</td>\n",
              "      <td>0</td>\n",
              "      <td>0</td>\n",
              "      <td>0</td>\n",
              "      <td>0</td>\n",
              "    </tr>\n",
              "    <tr>\n",
              "      <th>3</th>\n",
              "      <td>-2.017599</td>\n",
              "      <td>-0.503524</td>\n",
              "      <td>-0.454694</td>\n",
              "      <td>-0.195082</td>\n",
              "      <td>-2.188775e-14</td>\n",
              "      <td>0</td>\n",
              "      <td>-1.915487</td>\n",
              "      <td>-1.603109</td>\n",
              "      <td>0.950811</td>\n",
              "      <td>0</td>\n",
              "      <td>0</td>\n",
              "      <td>0</td>\n",
              "      <td>0</td>\n",
              "      <td>0</td>\n",
              "      <td>0</td>\n",
              "      <td>0</td>\n",
              "      <td>1</td>\n",
              "      <td>0</td>\n",
              "      <td>0</td>\n",
              "      <td>0</td>\n",
              "      <td>0</td>\n",
              "      <td>0</td>\n",
              "      <td>0</td>\n",
              "      <td>0</td>\n",
              "      <td>1</td>\n",
              "      <td>0</td>\n",
              "      <td>0</td>\n",
              "      <td>0</td>\n",
              "      <td>0</td>\n",
              "      <td>0</td>\n",
              "      <td>0</td>\n",
              "      <td>0</td>\n",
              "      <td>0</td>\n",
              "      <td>0</td>\n",
              "      <td>0</td>\n",
              "      <td>0</td>\n",
              "      <td>0</td>\n",
              "      <td>0</td>\n",
              "      <td>0</td>\n",
              "      <td>0</td>\n",
              "      <td>...</td>\n",
              "      <td>0</td>\n",
              "      <td>0</td>\n",
              "      <td>0</td>\n",
              "      <td>0</td>\n",
              "      <td>0</td>\n",
              "      <td>0</td>\n",
              "      <td>0</td>\n",
              "      <td>0</td>\n",
              "      <td>0</td>\n",
              "      <td>0</td>\n",
              "      <td>0</td>\n",
              "      <td>0</td>\n",
              "      <td>0</td>\n",
              "      <td>0</td>\n",
              "      <td>0</td>\n",
              "      <td>0</td>\n",
              "      <td>0</td>\n",
              "      <td>0</td>\n",
              "      <td>0</td>\n",
              "      <td>0</td>\n",
              "      <td>0</td>\n",
              "      <td>0</td>\n",
              "      <td>0</td>\n",
              "      <td>0</td>\n",
              "      <td>0</td>\n",
              "      <td>0</td>\n",
              "      <td>0</td>\n",
              "      <td>1</td>\n",
              "      <td>0</td>\n",
              "      <td>0</td>\n",
              "      <td>0</td>\n",
              "      <td>0</td>\n",
              "      <td>0</td>\n",
              "      <td>0</td>\n",
              "      <td>0</td>\n",
              "      <td>0</td>\n",
              "      <td>0</td>\n",
              "      <td>0</td>\n",
              "      <td>0</td>\n",
              "      <td>0</td>\n",
              "    </tr>\n",
              "    <tr>\n",
              "      <th>4</th>\n",
              "      <td>0.340688</td>\n",
              "      <td>0.691479</td>\n",
              "      <td>-0.454694</td>\n",
              "      <td>-0.195082</td>\n",
              "      <td>-2.188775e-14</td>\n",
              "      <td>0</td>\n",
              "      <td>-1.915487</td>\n",
              "      <td>-1.603109</td>\n",
              "      <td>0.225244</td>\n",
              "      <td>0</td>\n",
              "      <td>0</td>\n",
              "      <td>0</td>\n",
              "      <td>0</td>\n",
              "      <td>0</td>\n",
              "      <td>0</td>\n",
              "      <td>0</td>\n",
              "      <td>1</td>\n",
              "      <td>0</td>\n",
              "      <td>0</td>\n",
              "      <td>0</td>\n",
              "      <td>0</td>\n",
              "      <td>0</td>\n",
              "      <td>0</td>\n",
              "      <td>0</td>\n",
              "      <td>1</td>\n",
              "      <td>0</td>\n",
              "      <td>0</td>\n",
              "      <td>0</td>\n",
              "      <td>0</td>\n",
              "      <td>0</td>\n",
              "      <td>0</td>\n",
              "      <td>0</td>\n",
              "      <td>0</td>\n",
              "      <td>0</td>\n",
              "      <td>0</td>\n",
              "      <td>0</td>\n",
              "      <td>0</td>\n",
              "      <td>0</td>\n",
              "      <td>0</td>\n",
              "      <td>0</td>\n",
              "      <td>...</td>\n",
              "      <td>0</td>\n",
              "      <td>0</td>\n",
              "      <td>0</td>\n",
              "      <td>0</td>\n",
              "      <td>0</td>\n",
              "      <td>0</td>\n",
              "      <td>0</td>\n",
              "      <td>0</td>\n",
              "      <td>0</td>\n",
              "      <td>0</td>\n",
              "      <td>0</td>\n",
              "      <td>0</td>\n",
              "      <td>0</td>\n",
              "      <td>0</td>\n",
              "      <td>0</td>\n",
              "      <td>0</td>\n",
              "      <td>0</td>\n",
              "      <td>0</td>\n",
              "      <td>0</td>\n",
              "      <td>0</td>\n",
              "      <td>0</td>\n",
              "      <td>0</td>\n",
              "      <td>0</td>\n",
              "      <td>0</td>\n",
              "      <td>0</td>\n",
              "      <td>0</td>\n",
              "      <td>0</td>\n",
              "      <td>1</td>\n",
              "      <td>0</td>\n",
              "      <td>0</td>\n",
              "      <td>0</td>\n",
              "      <td>0</td>\n",
              "      <td>0</td>\n",
              "      <td>0</td>\n",
              "      <td>0</td>\n",
              "      <td>0</td>\n",
              "      <td>0</td>\n",
              "      <td>0</td>\n",
              "      <td>0</td>\n",
              "      <td>0</td>\n",
              "    </tr>\n",
              "  </tbody>\n",
              "</table>\n",
              "<p>5 rows × 103 columns</p>\n",
              "</div>"
            ],
            "text/plain": [
              "   Latitude  Longitude     Depth  Magnitude  ...  US  US_GCMT  US_PGC  UW\n",
              "0  0.583377   0.844368  0.495984   0.277668  ...   0        0       0   0\n",
              "1  0.006109   0.698849  0.075272  -0.195082  ...   0        0       0   0\n",
              "2 -0.739162  -1.701962 -0.413928   0.750418  ...   0        0       0   0\n",
              "3 -2.017599  -0.503524 -0.454694  -0.195082  ...   0        0       0   0\n",
              "4  0.340688   0.691479 -0.454694  -0.195082  ...   0        0       0   0\n",
              "\n",
              "[5 rows x 103 columns]"
            ]
          },
          "metadata": {},
          "execution_count": 13
        }
      ]
    },
    {
      "cell_type": "markdown",
      "metadata": {
        "id": "Zxs_t7eILpAM"
      },
      "source": [
        "Separate dependent and independent variables"
      ]
    },
    {
      "cell_type": "code",
      "metadata": {
        "id": "2kRQedEKLps8"
      },
      "source": [
        "X = df.drop('Status',axis=1)\n",
        "y = df['Status']"
      ],
      "execution_count": null,
      "outputs": []
    },
    {
      "cell_type": "markdown",
      "metadata": {
        "id": "rn_OSXGKLs6M"
      },
      "source": [
        "Train-Test Split"
      ]
    },
    {
      "cell_type": "code",
      "metadata": {
        "id": "-v9isjsULult"
      },
      "source": [
        "X_train, X_test, y_train, y_test = train_test_split(X, y, test_size=0.3, random_state=50)"
      ],
      "execution_count": null,
      "outputs": []
    },
    {
      "cell_type": "markdown",
      "metadata": {
        "id": "wWMI0f-9LyZ0"
      },
      "source": [
        "Model Building"
      ]
    },
    {
      "cell_type": "code",
      "metadata": {
        "id": "ThY9msuNL198"
      },
      "source": [
        "# Create a `Sequential` model and add a Dense layer as the first layer.\n",
        "model = Sequential()\n",
        "model.add(Input(shape=(X_train.shape[1],)))\n",
        "model.add(Dense(32, activation='relu'))\n",
        "# Now the model will take as input arrays of shape (None, 104)\n",
        "# and output arrays of shape (None, 32).\n",
        "# Note that after the first layer, you don't need to specify\n",
        "# the size of the input anymore:\n",
        "model.add(Dense(64, activation='relu'))\n",
        "# Only 1 output neuron. It will contain a value from 0-1 where 0 for class ('Automatic') \n",
        "# and 1 for the other ('Reviewed')\n",
        "model.add(Dense(units=1,activation='sigmoid'))"
      ],
      "execution_count": null,
      "outputs": []
    },
    {
      "cell_type": "code",
      "metadata": {
        "id": "dyl7zgn_L6gM",
        "colab": {
          "base_uri": "https://localhost:8080/"
        },
        "outputId": "ee853c33-a061-4057-d6d2-9f5830ee508b"
      },
      "source": [
        "#The following is the model summary of the model:\n",
        "model.summary()"
      ],
      "execution_count": null,
      "outputs": [
        {
          "output_type": "stream",
          "name": "stdout",
          "text": [
            "Model: \"sequential\"\n",
            "_________________________________________________________________\n",
            " Layer (type)                Output Shape              Param #   \n",
            "=================================================================\n",
            " dense (Dense)               (None, 32)                3296      \n",
            "                                                                 \n",
            " dense_1 (Dense)             (None, 64)                2112      \n",
            "                                                                 \n",
            " dense_2 (Dense)             (None, 1)                 65        \n",
            "                                                                 \n",
            "=================================================================\n",
            "Total params: 5,473\n",
            "Trainable params: 5,473\n",
            "Non-trainable params: 0\n",
            "_________________________________________________________________\n"
          ]
        }
      ]
    },
    {
      "cell_type": "markdown",
      "metadata": {
        "id": "z_2-_VweL84M"
      },
      "source": [
        "Specifying the optimizer and compile the model"
      ]
    },
    {
      "cell_type": "code",
      "metadata": {
        "id": "KRWar-PWMD3l",
        "colab": {
          "base_uri": "https://localhost:8080/"
        },
        "outputId": "c16f1eb9-3c46-46a9-d1df-7c01719880c6"
      },
      "source": [
        "# Early Stopping\n",
        "monitor = EarlyStopping(monitor='val_auc', patience=5, \n",
        "                        verbose=1, mode='max',restore_best_weights=True)\n",
        "# Defining Callbacks\n",
        "\n",
        "filepath = './best_weights.hdf5'\n",
        "checkpoint    = ModelCheckpoint(filepath, \n",
        "                                monitor = 'val_auc', \n",
        "                                mode='max', \n",
        "                                save_best_only=True, \n",
        "                                verbose = 1)\n",
        "\n",
        "reduceLR = ReduceLROnPlateau()\n",
        "callback_list = [monitor, checkpoint,reduceLR]\n",
        "\n",
        "# model compile\n",
        "model.compile(\n",
        "    optimizer=Adam(lr=0.001),\n",
        "    loss='binary_crossentropy',\n",
        "    metrics=[tf.keras.metrics.AUC(name='auc')]\n",
        ")"
      ],
      "execution_count": null,
      "outputs": [
        {
          "output_type": "stream",
          "name": "stderr",
          "text": [
            "/usr/local/lib/python3.7/dist-packages/keras/optimizer_v2/adam.py:105: UserWarning: The `lr` argument is deprecated, use `learning_rate` instead.\n",
            "  super(Adam, self).__init__(name, **kwargs)\n"
          ]
        }
      ]
    },
    {
      "cell_type": "markdown",
      "metadata": {
        "id": "eSJeSEojMHk9"
      },
      "source": [
        "Model Fitting"
      ]
    },
    {
      "cell_type": "code",
      "metadata": {
        "id": "8C36y-CAMJct",
        "colab": {
          "base_uri": "https://localhost:8080/"
        },
        "outputId": "d8ce9485-795a-4255-890e-6bdcdb27f61b"
      },
      "source": [
        "history = model.fit(\n",
        "    X_train,\n",
        "    y_train,\n",
        "    validation_split=0.2,\n",
        "    batch_size=32,\n",
        "    epochs=25,\n",
        "    callbacks=callback_list,\n",
        "    verbose=1\n",
        ")"
      ],
      "execution_count": null,
      "outputs": [
        {
          "output_type": "stream",
          "name": "stdout",
          "text": [
            "Epoch 1/25\n",
            "403/410 [============================>.] - ETA: 0s - loss: 0.0738 - auc: 0.9932\n",
            "Epoch 00001: val_auc improved from -inf to 1.00000, saving model to ./best_weights.hdf5\n",
            "410/410 [==============================] - 3s 4ms/step - loss: 0.0726 - auc: 0.9934 - val_loss: 0.0013 - val_auc: 1.0000 - lr: 0.0010\n",
            "Epoch 2/25\n",
            "390/410 [===========================>..] - ETA: 0s - loss: 5.8849e-04 - auc: 1.0000\n",
            "Epoch 00002: val_auc did not improve from 1.00000\n",
            "410/410 [==============================] - 1s 3ms/step - loss: 5.7038e-04 - auc: 1.0000 - val_loss: 2.4523e-04 - val_auc: 1.0000 - lr: 0.0010\n",
            "Epoch 3/25\n",
            "394/410 [===========================>..] - ETA: 0s - loss: 1.4864e-04 - auc: 1.0000\n",
            "Epoch 00003: val_auc did not improve from 1.00000\n",
            "410/410 [==============================] - 1s 3ms/step - loss: 1.4550e-04 - auc: 1.0000 - val_loss: 9.9499e-05 - val_auc: 1.0000 - lr: 0.0010\n",
            "Epoch 4/25\n",
            "394/410 [===========================>..] - ETA: 0s - loss: 6.4276e-05 - auc: 1.0000\n",
            "Epoch 00004: val_auc did not improve from 1.00000\n",
            "410/410 [==============================] - 1s 3ms/step - loss: 6.2931e-05 - auc: 1.0000 - val_loss: 5.2622e-05 - val_auc: 1.0000 - lr: 0.0010\n",
            "Epoch 5/25\n",
            "405/410 [============================>.] - ETA: 0s - loss: 3.4864e-05 - auc: 1.0000\n",
            "Epoch 00005: val_auc did not improve from 1.00000\n",
            "410/410 [==============================] - 1s 3ms/step - loss: 3.4612e-05 - auc: 1.0000 - val_loss: 3.1861e-05 - val_auc: 1.0000 - lr: 0.0010\n",
            "Epoch 6/25\n",
            "399/410 [============================>.] - ETA: 0s - loss: 2.1342e-05 - auc: 1.0000Restoring model weights from the end of the best epoch: 1.\n",
            "\n",
            "Epoch 00006: val_auc did not improve from 1.00000\n",
            "410/410 [==============================] - 1s 3ms/step - loss: 2.1016e-05 - auc: 1.0000 - val_loss: 2.0992e-05 - val_auc: 1.0000 - lr: 0.0010\n",
            "Epoch 00006: early stopping\n"
          ]
        }
      ]
    },
    {
      "cell_type": "markdown",
      "metadata": {
        "id": "F3VsAqQ7MOK9"
      },
      "source": [
        "Result"
      ]
    },
    {
      "cell_type": "code",
      "metadata": {
        "id": "fbetv-_FMQe0",
        "colab": {
          "base_uri": "https://localhost:8080/",
          "height": 377
        },
        "outputId": "ecf3ba8f-7e12-41ad-858d-18d443784e58"
      },
      "source": [
        "plt.figure(figsize=(20, 6))\n",
        "\n",
        "train_loss, val_loss = history.history['loss'], history.history['val_loss']\n",
        "train_auc, val_auc = history.history['auc'], history.history['val_auc']\n",
        "\n",
        "plt.subplot(1, 2, 1)\n",
        "plt.plot(history.history['loss'], label=\"Training Loss\")\n",
        "plt.plot(history.history['val_loss'], label=\"Validation Loss\")\n",
        "plt.legend()\n",
        "plt.title(\"Model Loss\")\n",
        "\n",
        "plt.subplot(1, 2, 2)\n",
        "plt.plot(history.history['auc'], label=\"Training AUC\")\n",
        "plt.plot(history.history['val_auc'], label=\"Validation AUC\")\n",
        "plt.legend()\n",
        "plt.title(\"Model AUC\")\n",
        "\n",
        "plt.show()"
      ],
      "execution_count": null,
      "outputs": [
        {
          "output_type": "display_data",
          "data": {
            "image/png": "[encoded data removed]",
            "text/plain": [
              "<Figure size 1440x432 with 2 Axes>"
            ]
          },
          "metadata": {
            "needs_background": "light"
          }
        }
      ]
    },
    {
      "cell_type": "markdown",
      "metadata": {
        "id": "pJ60BjxOMTX9"
      },
      "source": [
        "Model Evaluation"
      ]
    },
    {
      "cell_type": "code",
      "metadata": {
        "id": "sXSmXLcVMUsF",
        "colab": {
          "base_uri": "https://localhost:8080/"
        },
        "outputId": "19bb619d-a75f-4cbf-c16c-e5d6c5fadb14"
      },
      "source": [
        "model.evaluate(X_test, y_test)"
      ],
      "execution_count": null,
      "outputs": [
        {
          "output_type": "stream",
          "name": "stdout",
          "text": [
            "220/220 [==============================] - 0s 2ms/step - loss: 0.0015 - auc: 1.0000\n"
          ]
        },
        {
          "output_type": "execute_result",
          "data": {
            "text/plain": [
              "[0.0015097876312211156, 0.9999995827674866]"
            ]
          },
          "metadata": {},
          "execution_count": 21
        }
      ]
    },
    {
      "cell_type": "markdown",
      "metadata": {
        "id": "XTg9nY1lMWle"
      },
      "source": [
        "Model Prediction"
      ]
    },
    {
      "cell_type": "code",
      "metadata": {
        "id": "QRSO3alIMYS9"
      },
      "source": [
        "y_pred = model.predict(X_test)\n",
        "y_pred = (y_pred > 0.5)"
      ],
      "execution_count": null,
      "outputs": []
    },
    {
      "cell_type": "markdown",
      "metadata": {
        "id": "ahrS3ZV0MaFk"
      },
      "source": [
        "Result Visualization"
      ]
    },
    {
      "cell_type": "code",
      "metadata": {
        "id": "GtzrZotKMbv0",
        "colab": {
          "base_uri": "https://localhost:8080/",
          "height": 289
        },
        "outputId": "57ad2083-989f-41f0-a259-41cff44ff05d"
      },
      "source": [
        "cf_matrix = confusion_matrix(y_test,y_pred)\n",
        "sns.heatmap(cf_matrix,annot=True,fmt=\"d\")\n",
        "plt.title('Confusion Matrix', fontsize = 23)\n",
        "plt.show()"
      ],
      "execution_count": null,
      "outputs": [
        {
          "output_type": "display_data",
          "data": {
            "image/png": "[encoded data removed]",
            "text/plain": [
              "<Figure size 432x288 with 2 Axes>"
            ]
          },
          "metadata": {
            "needs_background": "light"
          }
        }
      ]
    },
    {
      "cell_type": "code",
      "metadata": {
        "id": "zWmj2dPnMdgV",
        "colab": {
          "base_uri": "https://localhost:8080/"
        },
        "outputId": "d37087f6-008b-4c06-d1d2-4a9e1290556f"
      },
      "source": [
        "y_test.value_counts()"
      ],
      "execution_count": null,
      "outputs": [
        {
          "output_type": "execute_result",
          "data": {
            "text/plain": [
              "1    6237\n",
              "0     787\n",
              "Name: Status, dtype: int64"
            ]
          },
          "metadata": {},
          "execution_count": 24
        }
      ]
    }
  ]
}